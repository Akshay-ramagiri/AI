{
  "nbformat": 4,
  "nbformat_minor": 0,
  "metadata": {
    "colab": {
      "name": "Linear_regression.ipynb",
      "provenance": [],
      "authorship_tag": "ABX9TyPpMVkIr6HmXaZRpiAi3d5y",
      "include_colab_link": true
    },
    "kernelspec": {
      "name": "python3",
      "display_name": "Python 3"
    },
    "language_info": {
      "name": "python"
    }
  },
  "cells": [
    {
      "cell_type": "markdown",
      "metadata": {
        "id": "view-in-github",
        "colab_type": "text"
      },
      "source": [
        "<a href=\"https://colab.research.google.com/github/Akshay-ramagiri/AI/blob/main/Linear_optimization.ipynb\" target=\"_parent\"><img src=\"https://colab.research.google.com/assets/colab-badge.svg\" alt=\"Open In Colab\"/></a>"
      ]
    },
    {
      "cell_type": "code",
      "metadata": {
        "colab": {
          "base_uri": "https://localhost:8080/"
        },
        "id": "yPmnFDSQOrM9",
        "outputId": "01c5bab2-e7fb-4f38-ef3f-1b64b78648d4"
      },
      "source": [
        "from scipy.optimize import linprog\n",
        "obj=[-50,-120]\n",
        "A=[[7000,2000],[10,30],[1,1]] \n",
        "B=[700000,1200,110] \n",
        "boundary=[(0,110),(0,110)]\n",
        "res=linprog(c=obj,A_ub=A,b_ub=B,A_eq=None,b_eq=None,bounds=boundary,method=\"Simplex\")\n",
        "print('Area for growing wheat (in hectares) = ',round(res.x[0]))\n",
        "print('Area for growing batley (in hectares) = ',round(res.x[1]))\n",
        "profit=round(50*round(res.x[0]) +120*round(res.x[1]))\n",
        "print('Max profit = ',profit)"
      ],
      "execution_count": 3,
      "outputs": [
        {
          "output_type": "stream",
          "text": [
            "Area for growing wheat (in hectares) =  98\n",
            "Area for growing batley (in hectares) =  7\n",
            "Max profit =  5740\n"
          ],
          "name": "stdout"
        }
      ]
    }
  ]
}