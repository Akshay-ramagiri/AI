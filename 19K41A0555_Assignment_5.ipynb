{
  "nbformat": 4,
  "nbformat_minor": 0,
  "metadata": {
    "colab": {
      "name": "19K41A0555_Assignment_5.ipynb",
      "provenance": [],
      "authorship_tag": "ABX9TyM2j8f6U2eDWJaR6wKG7JGY",
      "include_colab_link": true
    },
    "kernelspec": {
      "name": "python3",
      "display_name": "Python 3"
    },
    "language_info": {
      "name": "python"
    }
  },
  "cells": [
    {
      "cell_type": "markdown",
      "metadata": {
        "id": "view-in-github",
        "colab_type": "text"
      },
      "source": [
        "<a href=\"https://colab.research.google.com/github/Akshay-ramagiri/AI/blob/main/19K41A0555_Assignment_5.ipynb\" target=\"_parent\"><img src=\"https://colab.research.google.com/assets/colab-badge.svg\" alt=\"Open In Colab\"/></a>"
      ]
    },
    {
      "cell_type": "markdown",
      "metadata": {
        "id": "B9Pp90MKQk20"
      },
      "source": [
        "##Mount Google Drive"
      ]
    },
    {
      "cell_type": "code",
      "metadata": {
        "colab": {
          "base_uri": "https://localhost:8080/"
        },
        "id": "ZS-npN4PTJlH",
        "outputId": "8d821900-679b-44f9-bb06-a26418db476d"
      },
      "source": [
        "from google.colab import drive\n",
        "drive.mount('/content/drive')"
      ],
      "execution_count": null,
      "outputs": [
        {
          "output_type": "stream",
          "name": "stdout",
          "text": [
            "Drive already mounted at /content/drive; to attempt to forcibly remount, call drive.mount(\"/content/drive\", force_remount=True).\n"
          ]
        }
      ]
    },
    {
      "cell_type": "markdown",
      "metadata": {
        "id": "zhpGju-fTxUN"
      },
      "source": [
        "#Import required libraries"
      ]
    },
    {
      "cell_type": "code",
      "metadata": {
        "id": "8gQzg_ifT2eZ"
      },
      "source": [
        "import numpy as np\n",
        "import math as mt\n",
        "import pandas as pd\n",
        "from sklearn.model_selection import train_test_split\n",
        "from sklearn.metrics import mean_absolute_error,mean_squared_error\n",
        "import warnings\n",
        "warnings.filterwarnings('ignore')"
      ],
      "execution_count": 74,
      "outputs": []
    },
    {
      "cell_type": "markdown",
      "metadata": {
        "id": "xGq6CAi1UAir"
      },
      "source": [
        "#Read the data"
      ]
    },
    {
      "cell_type": "code",
      "metadata": {
        "colab": {
          "base_uri": "https://localhost:8080/",
          "height": 202
        },
        "id": "gDSVWpf2Ut3D",
        "outputId": "d9a56857-c879-444c-817f-bb8488fb5420"
      },
      "source": [
        "data = pd.read_csv('/content/drive/MyDrive/Assignment_5.csv')\n",
        "data.head()"
      ],
      "execution_count": 75,
      "outputs": [
        {
          "output_type": "execute_result",
          "data": {
            "text/html": [
              "<div>\n",
              "<style scoped>\n",
              "    .dataframe tbody tr th:only-of-type {\n",
              "        vertical-align: middle;\n",
              "    }\n",
              "\n",
              "    .dataframe tbody tr th {\n",
              "        vertical-align: top;\n",
              "    }\n",
              "\n",
              "    .dataframe thead th {\n",
              "        text-align: right;\n",
              "    }\n",
              "</style>\n",
              "<table border=\"1\" class=\"dataframe\">\n",
              "  <thead>\n",
              "    <tr style=\"text-align: right;\">\n",
              "      <th></th>\n",
              "      <th>Unnamed: 0</th>\n",
              "      <th>L(T-3)</th>\n",
              "      <th>L(T-2)</th>\n",
              "      <th>L(T-1)</th>\n",
              "      <th>L(T)</th>\n",
              "    </tr>\n",
              "  </thead>\n",
              "  <tbody>\n",
              "    <tr>\n",
              "      <th>0</th>\n",
              "      <td>1</td>\n",
              "      <td>5551.82208</td>\n",
              "      <td>4983.17184</td>\n",
              "      <td>4888.39680</td>\n",
              "      <td>5072.95872</td>\n",
              "    </tr>\n",
              "    <tr>\n",
              "      <th>1</th>\n",
              "      <td>2</td>\n",
              "      <td>5196.25980</td>\n",
              "      <td>5641.29720</td>\n",
              "      <td>7153.17732</td>\n",
              "      <td>7849.80504</td>\n",
              "    </tr>\n",
              "    <tr>\n",
              "      <th>2</th>\n",
              "      <td>3</td>\n",
              "      <td>6329.97504</td>\n",
              "      <td>6292.87560</td>\n",
              "      <td>5349.80160</td>\n",
              "      <td>5225.40936</td>\n",
              "    </tr>\n",
              "    <tr>\n",
              "      <th>3</th>\n",
              "      <td>4</td>\n",
              "      <td>5000.47452</td>\n",
              "      <td>4775.53968</td>\n",
              "      <td>6177.05676</td>\n",
              "      <td>6177.05676</td>\n",
              "    </tr>\n",
              "    <tr>\n",
              "      <th>4</th>\n",
              "      <td>5</td>\n",
              "      <td>6155.70120</td>\n",
              "      <td>6212.12976</td>\n",
              "      <td>7424.25264</td>\n",
              "      <td>7407.41760</td>\n",
              "    </tr>\n",
              "  </tbody>\n",
              "</table>\n",
              "</div>"
            ],
            "text/plain": [
              "   Unnamed: 0      L(T-3)      L(T-2)      L(T-1)        L(T)\n",
              "0           1  5551.82208  4983.17184  4888.39680  5072.95872\n",
              "1           2  5196.25980  5641.29720  7153.17732  7849.80504\n",
              "2           3  6329.97504  6292.87560  5349.80160  5225.40936\n",
              "3           4  5000.47452  4775.53968  6177.05676  6177.05676\n",
              "4           5  6155.70120  6212.12976  7424.25264  7407.41760"
            ]
          },
          "metadata": {},
          "execution_count": 75
        }
      ]
    },
    {
      "cell_type": "markdown",
      "metadata": {
        "id": "fPkMglu6U9qc"
      },
      "source": [
        "##Normalization"
      ]
    },
    {
      "cell_type": "code",
      "metadata": {
        "colab": {
          "base_uri": "https://localhost:8080/",
          "height": 202
        },
        "id": "YwvlqYoNWvit",
        "outputId": "e652b5d2-4cc5-46af-9580-62d0c12d49a6"
      },
      "source": [
        "def normalize(column):\n",
        "  c_max, c_min = np.max(column), np.min(column)\n",
        "  for i in range(len(column)):\n",
        "    column.iloc[i] = (column.iloc[i] - c_min) / (c_max - c_min)\n",
        "  return c_max, c_min\n",
        "\n",
        "x1max, x1min = normalize(data['L(T-3)'])\n",
        "x2max, x2min = normalize(data['L(T-2)'])\n",
        "x3max, x3min = normalize(data['L(T-1)'])\n",
        "ymax, ymin = normalize(data['L(T)'])\n",
        "data.head()"
      ],
      "execution_count": 76,
      "outputs": [
        {
          "output_type": "execute_result",
          "data": {
            "text/html": [
              "<div>\n",
              "<style scoped>\n",
              "    .dataframe tbody tr th:only-of-type {\n",
              "        vertical-align: middle;\n",
              "    }\n",
              "\n",
              "    .dataframe tbody tr th {\n",
              "        vertical-align: top;\n",
              "    }\n",
              "\n",
              "    .dataframe thead th {\n",
              "        text-align: right;\n",
              "    }\n",
              "</style>\n",
              "<table border=\"1\" class=\"dataframe\">\n",
              "  <thead>\n",
              "    <tr style=\"text-align: right;\">\n",
              "      <th></th>\n",
              "      <th>Unnamed: 0</th>\n",
              "      <th>L(T-3)</th>\n",
              "      <th>L(T-2)</th>\n",
              "      <th>L(T-1)</th>\n",
              "      <th>L(T)</th>\n",
              "    </tr>\n",
              "  </thead>\n",
              "  <tbody>\n",
              "    <tr>\n",
              "      <th>0</th>\n",
              "      <td>1</td>\n",
              "      <td>0.318003</td>\n",
              "      <td>0.119312</td>\n",
              "      <td>0.064412</td>\n",
              "      <td>0.121468</td>\n",
              "    </tr>\n",
              "    <tr>\n",
              "      <th>1</th>\n",
              "      <td>2</td>\n",
              "      <td>0.158090</td>\n",
              "      <td>0.497492</td>\n",
              "      <td>0.899988</td>\n",
              "      <td>1.000000</td>\n",
              "    </tr>\n",
              "    <tr>\n",
              "      <th>2</th>\n",
              "      <td>3</td>\n",
              "      <td>0.667975</td>\n",
              "      <td>0.871910</td>\n",
              "      <td>0.234645</td>\n",
              "      <td>0.169700</td>\n",
              "    </tr>\n",
              "    <tr>\n",
              "      <th>3</th>\n",
              "      <td>4</td>\n",
              "      <td>0.070036</td>\n",
              "      <td>0.000000</td>\n",
              "      <td>0.539855</td>\n",
              "      <td>0.470780</td>\n",
              "    </tr>\n",
              "    <tr>\n",
              "      <th>4</th>\n",
              "      <td>5</td>\n",
              "      <td>0.589596</td>\n",
              "      <td>0.825511</td>\n",
              "      <td>1.000000</td>\n",
              "      <td>0.860038</td>\n",
              "    </tr>\n",
              "  </tbody>\n",
              "</table>\n",
              "</div>"
            ],
            "text/plain": [
              "   Unnamed: 0    L(T-3)    L(T-2)    L(T-1)      L(T)\n",
              "0           1  0.318003  0.119312  0.064412  0.121468\n",
              "1           2  0.158090  0.497492  0.899988  1.000000\n",
              "2           3  0.667975  0.871910  0.234645  0.169700\n",
              "3           4  0.070036  0.000000  0.539855  0.470780\n",
              "4           5  0.589596  0.825511  1.000000  0.860038"
            ]
          },
          "metadata": {},
          "execution_count": 76
        }
      ]
    },
    {
      "cell_type": "code",
      "metadata": {
        "colab": {
          "base_uri": "https://localhost:8080/"
        },
        "id": "5xs2HyUcbLDi",
        "outputId": "6cb734ba-bf6c-48c3-dd16-686e0ee57dff"
      },
      "source": [
        "data.isnull().sum()"
      ],
      "execution_count": 77,
      "outputs": [
        {
          "output_type": "execute_result",
          "data": {
            "text/plain": [
              "Unnamed: 0    0\n",
              "L(T-3)        0\n",
              "L(T-2)        0\n",
              "L(T-1)        0\n",
              "L(T)          0\n",
              "dtype: int64"
            ]
          },
          "metadata": {},
          "execution_count": 77
        }
      ]
    },
    {
      "cell_type": "markdown",
      "metadata": {
        "id": "UeeWC6lmbpfJ"
      },
      "source": [
        "##Split data for testing and training"
      ]
    },
    {
      "cell_type": "code",
      "metadata": {
        "id": "Gfu5kw-TbtTT"
      },
      "source": [
        "X = data[['L(T-3)', 'L(T-2)', 'L(T-1)']]\n",
        "Y = data['L(T)']\n",
        "xtrain, xtest, ytrain, ytest = train_test_split(X, Y, test_size=0.1, random_state=101)"
      ],
      "execution_count": 78,
      "outputs": []
    },
    {
      "cell_type": "markdown",
      "metadata": {
        "id": "QBJa8tqCb1lC"
      },
      "source": [
        "##Initialize Learning Rate, Epochs and Model Parameters"
      ]
    },
    {
      "cell_type": "code",
      "metadata": {
        "id": "lVIMgUPMcUl3"
      },
      "source": [
        "m = [np.random.uniform(-10, 10) for i in range(xtrain.shape[1])]\n",
        "c = np.random.uniform(-10, 10)\n",
        "eeta = 0.1\n",
        "epochs = 500"
      ],
      "execution_count": 79,
      "outputs": []
    },
    {
      "cell_type": "markdown",
      "metadata": {
        "id": "zk9YvmuFckAj"
      },
      "source": [
        "##Train the model"
      ]
    },
    {
      "cell_type": "code",
      "metadata": {
        "colab": {
          "base_uri": "https://localhost:8080/"
        },
        "id": "yQnAzs6Sclmq",
        "outputId": "ff0b54d8-f391-4133-f4d7-af2a225a7cb5"
      },
      "source": [
        "for _ in range(epochs):\n",
        "  for i in range(xtrain.shape[0]):\n",
        "    y, ypred = ytrain.iloc[i], sum([xtrain.iat[i,z] * m[z] for z in range(xtrain.shape[1])])\n",
        "    gradm = [-1 * xtrain.iat[i,j] * (y - ypred - c) for j in range(xtrain.shape[1])]\n",
        "    gradc = -1 * (y - ypred - c)\n",
        "    c = c - eeta * gradc\n",
        "    for j in range(len(m)):\n",
        "      m[j] = m[j] - eeta * gradm[j]\n",
        "\n",
        "#Display Model Parameters after training\n",
        "print(m, c) "
      ],
      "execution_count": 80,
      "outputs": [
        {
          "output_type": "stream",
          "name": "stdout",
          "text": [
            "[-0.5178944933315242, 0.257678253892309, 0.9531022856720794] -0.007936362269933177\n"
          ]
        }
      ]
    },
    {
      "cell_type": "markdown",
      "metadata": {
        "id": "0aZW0a5VeM9B"
      },
      "source": [
        "###Predict L(T) values for training and testing data"
      ]
    },
    {
      "cell_type": "code",
      "metadata": {
        "id": "4QwksDmveU1J"
      },
      "source": [
        "ytrainPred = []\n",
        "for x in range(xtrain.shape[0]):\n",
        "  ytrainPred.append(xtrain.iat[x, 0] * m[0] + xtrain.iat[x, 1] * m[1] + xtrain.iat[x, 2] * m[2] + c)\n",
        " \n",
        "ytestPred = []\n",
        "for x in range(xtest.shape[0]):\n",
        "  ytestPred.append(xtest.iat[x, 0] * m[0] + xtest.iat[x, 1] * m[1] + xtest.iat[x, 2] * m[2] + c)"
      ],
      "execution_count": 81,
      "outputs": []
    },
    {
      "cell_type": "markdown",
      "metadata": {
        "id": "aNFcohtVe1tV"
      },
      "source": [
        "##Denormalize training, testing data and predicted values"
      ]
    },
    {
      "cell_type": "code",
      "metadata": {
        "id": "uvB7jQwcg3me"
      },
      "source": [
        "xtrain['L(T-3)'] = xtrain['L(T-3)'] * (x1max - x1min) + x1min\n",
        "xtrain['L(T-2)'] = xtrain['L(T-2)'] * (x2max - x2min) + x2min\n",
        "xtrain['L(T-1)'] = xtrain['L(T-1)'] * (x3max - x3min) + x3min\n",
        "ytrain = ytrain * (ymax - ymin) + ymin\n",
        "xtest['L(T-3)'] = xtest['L(T-3)'] * (x1max - x1min) + x1min\n",
        "xtest['L(T-2)'] = xtest['L(T-2)'] * (x2max - x2min) + x2min\n",
        "xtest['L(T-1)'] = xtest['L(T-1)'] * (x3max - x3min) + x3min\n",
        "ytest = ytest * (ymax - ymin) + ymin\n",
        "ytrainPred = np.multiply(ytrainPred, (ymax - ymin)) + ymin\n",
        "ytestPred = np.multiply(ytestPred, (ymax - ymin)) + ymin"
      ],
      "execution_count": 82,
      "outputs": []
    },
    {
      "cell_type": "markdown",
      "metadata": {
        "id": "JAlo78yZf8HV"
      },
      "source": [
        "##Error Metrics"
      ]
    },
    {
      "cell_type": "code",
      "metadata": {
        "colab": {
          "base_uri": "https://localhost:8080/"
        },
        "id": "e2tH1-HNf-A1",
        "outputId": "45254729-fd1e-48b1-bd1b-ef71a1d253da"
      },
      "source": [
        "MAE_Train = mean_absolute_error(ytrainPred, ytrain) #Testing MAE\n",
        "MSE_Train = mean_squared_error(ytrainPred, ytrain) #Testing MSE\n",
        "RMSE_Train = mean_squared_error(ytrainPred, ytrain) ** 0.5 #Testing RMSE\n",
        "MAE_Test = mean_absolute_error(ytestPred, ytest) #Testing MAE\n",
        "MSE_Test = mean_squared_error(ytestPred, ytest) #Testing MSE\n",
        "RMSE_Test = mean_squared_error(ytestPred, ytest) ** 0.5 #Testing RMSE\n",
        "print('Training Error :')\n",
        "print('Mean Absolute Error :', MAE_Train)\n",
        "print('Mean Squared Error :', MSE_Train)\n",
        "print('Root Mean Squared Error :', RMSE_Train)\n",
        "print('\\nTesting Error :')\n",
        "print('Mean Absolute Error :', MAE_Test)\n",
        "print('Mean Squared Error :', MSE_Test)\n",
        "print('Root Mean Squared Error :', RMSE_Test)"
      ],
      "execution_count": 83,
      "outputs": [
        {
          "output_type": "stream",
          "name": "stdout",
          "text": [
            "Training Error :\n",
            "Mean Absolute Error : 167.86772024888393\n",
            "Mean Squared Error : 44482.71806916852\n",
            "Root Mean Squared Error : 210.9092650150024\n",
            "\n",
            "Testing Error :\n",
            "Mean Absolute Error : 638.3529267170379\n",
            "Mean Squared Error : 407494.45904820797\n",
            "Root Mean Squared Error : 638.3529267170379\n"
          ]
        }
      ]
    },
    {
      "cell_type": "markdown",
      "metadata": {
        "id": "3HEwCSD_i6YM"
      },
      "source": [
        "##Analyze training data predictions"
      ]
    },
    {
      "cell_type": "code",
      "metadata": {
        "colab": {
          "base_uri": "https://localhost:8080/",
          "height": 264
        },
        "id": "sbr3cYvqi9Pf",
        "outputId": "51a91980-7aaa-4047-ca10-5c81d8cf421d"
      },
      "source": [
        "xtrain['Y_Train'] = ytrain\n",
        "xtrain['Y_Train_Prediction'] = ytrainPred\n",
        "xtrain"
      ],
      "execution_count": 84,
      "outputs": [
        {
          "output_type": "execute_result",
          "data": {
            "text/html": [
              "<div>\n",
              "<style scoped>\n",
              "    .dataframe tbody tr th:only-of-type {\n",
              "        vertical-align: middle;\n",
              "    }\n",
              "\n",
              "    .dataframe tbody tr th {\n",
              "        vertical-align: top;\n",
              "    }\n",
              "\n",
              "    .dataframe thead th {\n",
              "        text-align: right;\n",
              "    }\n",
              "</style>\n",
              "<table border=\"1\" class=\"dataframe\">\n",
              "  <thead>\n",
              "    <tr style=\"text-align: right;\">\n",
              "      <th></th>\n",
              "      <th>L(T-3)</th>\n",
              "      <th>L(T-2)</th>\n",
              "      <th>L(T-1)</th>\n",
              "      <th>Y_Train</th>\n",
              "      <th>Y_Train_Prediction</th>\n",
              "    </tr>\n",
              "  </thead>\n",
              "  <tbody>\n",
              "    <tr>\n",
              "      <th>2</th>\n",
              "      <td>6329.97504</td>\n",
              "      <td>6292.87560</td>\n",
              "      <td>5349.80160</td>\n",
              "      <td>5225.40936</td>\n",
              "      <td>4987.515547</td>\n",
              "    </tr>\n",
              "    <tr>\n",
              "      <th>5</th>\n",
              "      <td>7068.22272</td>\n",
              "      <td>6515.78400</td>\n",
              "      <td>6350.08356</td>\n",
              "      <td>5502.25224</td>\n",
              "      <td>5660.105433</td>\n",
              "    </tr>\n",
              "    <tr>\n",
              "      <th>4</th>\n",
              "      <td>6155.70120</td>\n",
              "      <td>6212.12976</td>\n",
              "      <td>7424.25264</td>\n",
              "      <td>7407.41760</td>\n",
              "      <td>7383.695830</td>\n",
              "    </tr>\n",
              "    <tr>\n",
              "      <th>6</th>\n",
              "      <td>4931.26380</td>\n",
              "      <td>4775.53968</td>\n",
              "      <td>4713.81120</td>\n",
              "      <td>4689.02628</td>\n",
              "      <td>4600.248878</td>\n",
              "    </tr>\n",
              "    <tr>\n",
              "      <th>1</th>\n",
              "      <td>5196.25980</td>\n",
              "      <td>5641.29720</td>\n",
              "      <td>7153.17732</td>\n",
              "      <td>7849.80504</td>\n",
              "      <td>7521.600810</td>\n",
              "    </tr>\n",
              "    <tr>\n",
              "      <th>3</th>\n",
              "      <td>5000.47452</td>\n",
              "      <td>4775.53968</td>\n",
              "      <td>6177.05676</td>\n",
              "      <td>6177.05676</td>\n",
              "      <td>6175.632973</td>\n",
              "    </tr>\n",
              "    <tr>\n",
              "      <th>7</th>\n",
              "      <td>4844.75040</td>\n",
              "      <td>5571.46296</td>\n",
              "      <td>6150.71304</td>\n",
              "      <td>6296.30496</td>\n",
              "      <td>6633.504807</td>\n",
              "    </tr>\n",
              "  </tbody>\n",
              "</table>\n",
              "</div>"
            ],
            "text/plain": [
              "       L(T-3)      L(T-2)      L(T-1)     Y_Train  Y_Train_Prediction\n",
              "2  6329.97504  6292.87560  5349.80160  5225.40936         4987.515547\n",
              "5  7068.22272  6515.78400  6350.08356  5502.25224         5660.105433\n",
              "4  6155.70120  6212.12976  7424.25264  7407.41760         7383.695830\n",
              "6  4931.26380  4775.53968  4713.81120  4689.02628         4600.248878\n",
              "1  5196.25980  5641.29720  7153.17732  7849.80504         7521.600810\n",
              "3  5000.47452  4775.53968  6177.05676  6177.05676         6175.632973\n",
              "7  4844.75040  5571.46296  6150.71304  6296.30496         6633.504807"
            ]
          },
          "metadata": {},
          "execution_count": 84
        }
      ]
    },
    {
      "cell_type": "markdown",
      "metadata": {
        "id": "4zaEgXdLjLtT"
      },
      "source": [
        "##Analyze testing data predictions"
      ]
    },
    {
      "cell_type": "code",
      "metadata": {
        "colab": {
          "base_uri": "https://localhost:8080/",
          "height": 79
        },
        "id": "_TcgDHkvjTTm",
        "outputId": "c9ab8445-abee-44ec-ee1b-f73cd988240a"
      },
      "source": [
        "xtest['Y_Test'] = ytest\n",
        "xtest['Y_Test_Prediction'] = ytestPred\n",
        "xtest"
      ],
      "execution_count": 85,
      "outputs": [
        {
          "output_type": "execute_result",
          "data": {
            "text/html": [
              "<div>\n",
              "<style scoped>\n",
              "    .dataframe tbody tr th:only-of-type {\n",
              "        vertical-align: middle;\n",
              "    }\n",
              "\n",
              "    .dataframe tbody tr th {\n",
              "        vertical-align: top;\n",
              "    }\n",
              "\n",
              "    .dataframe thead th {\n",
              "        text-align: right;\n",
              "    }\n",
              "</style>\n",
              "<table border=\"1\" class=\"dataframe\">\n",
              "  <thead>\n",
              "    <tr style=\"text-align: right;\">\n",
              "      <th></th>\n",
              "      <th>L(T-3)</th>\n",
              "      <th>L(T-2)</th>\n",
              "      <th>L(T-1)</th>\n",
              "      <th>Y_Test</th>\n",
              "      <th>Y_Test_Prediction</th>\n",
              "    </tr>\n",
              "  </thead>\n",
              "  <tbody>\n",
              "    <tr>\n",
              "      <th>0</th>\n",
              "      <td>5551.82208</td>\n",
              "      <td>4983.17184</td>\n",
              "      <td>4888.3968</td>\n",
              "      <td>5072.95872</td>\n",
              "      <td>4434.605793</td>\n",
              "    </tr>\n",
              "  </tbody>\n",
              "</table>\n",
              "</div>"
            ],
            "text/plain": [
              "       L(T-3)      L(T-2)     L(T-1)      Y_Test  Y_Test_Prediction\n",
              "0  5551.82208  4983.17184  4888.3968  5072.95872        4434.605793"
            ]
          },
          "metadata": {},
          "execution_count": 85
        }
      ]
    },
    {
      "cell_type": "markdown",
      "metadata": {
        "id": "UqBU5AdojpoX"
      },
      "source": [
        "##Deployment"
      ]
    },
    {
      "cell_type": "code",
      "metadata": {
        "colab": {
          "base_uri": "https://localhost:8080/"
        },
        "id": "2SH-r8Oujr3e",
        "outputId": "1338dd17-29a1-480e-df29-905d7ddd3afd"
      },
      "source": [
        "2x1 = float(input('Enter load at T-3 hours : '))\n",
        "x2 = float(input('Enter load at T-2 hours : '))\n",
        "x3 = float(input('Enter load at T-1 hours : '))\n",
        "x1Norm = (x1 - x1min) / (x1max - x1min)\n",
        "x2Norm = (x2 - x2min) / (x2max - x2min)\n",
        "x3Norm = (x3 - x3min) / (x3max - x3min)\n",
        "yPred = x1Norm * m[0] + x2Norm * m[1] + x3Norm * m[2] + c\n",
        "y = yPred * (ymax - ymin) + ymin\n",
        "print('Load at T hour :', y)"
      ],
      "execution_count": 86,
      "outputs": [
        {
          "output_type": "stream",
          "name": "stdout",
          "text": [
            "Enter load at T-3 hours : 1500\n",
            "Enter load at T-2 hours : 2000\n",
            "Enter load at T-1 hours : 2500\n",
            "Load at T hour : 3366.8300184738414\n"
          ]
        }
      ]
    }
  ]
}